{
 "cells": [
  {
   "cell_type": "code",
   "execution_count": 1,
   "metadata": {},
   "outputs": [],
   "source": [
    "#import basic libraries\n",
    "import pandas as pd\n",
    "import numpy as np\n",
    "import seaborn as sns\n",
    "import matplotlib.pyplot as plt\n",
    "%matplotlib inline"
   ]
  },
  {
   "cell_type": "code",
   "execution_count": 2,
   "metadata": {},
   "outputs": [],
   "source": [
    "import os \n",
    "\n",
    "#set working directory\n",
    "os.chdir('C:/Users/simran.chhabra1/Desktop/extras/personal/Edwisor projects/Cab rental')"
   ]
  },
  {
   "cell_type": "code",
   "execution_count": 3,
   "metadata": {},
   "outputs": [
    {
     "data": {
      "text/plain": [
       "'C:\\\\Users\\\\simran.chhabra1\\\\Desktop\\\\extras\\\\personal\\\\Edwisor projects\\\\Cab rental'"
      ]
     },
     "execution_count": 3,
     "metadata": {},
     "output_type": "execute_result"
    }
   ],
   "source": [
    "#check current working directory\n",
    "os.getcwd()"
   ]
  },
  {
   "cell_type": "code",
   "execution_count": 56,
   "metadata": {},
   "outputs": [],
   "source": [
    "#read train and test data\n",
    "train = pd.read_csv('train_cab/train_cab.csv')\n",
    "test = pd.read_csv('test/test.csv')\n"
   ]
  },
  {
   "cell_type": "code",
   "execution_count": 46,
   "metadata": {},
   "outputs": [
    {
     "data": {
      "text/html": [
       "<div>\n",
       "<style scoped>\n",
       "    .dataframe tbody tr th:only-of-type {\n",
       "        vertical-align: middle;\n",
       "    }\n",
       "\n",
       "    .dataframe tbody tr th {\n",
       "        vertical-align: top;\n",
       "    }\n",
       "\n",
       "    .dataframe thead th {\n",
       "        text-align: right;\n",
       "    }\n",
       "</style>\n",
       "<table border=\"1\" class=\"dataframe\">\n",
       "  <thead>\n",
       "    <tr style=\"text-align: right;\">\n",
       "      <th></th>\n",
       "      <th>pickup_datetime</th>\n",
       "      <th>pickup_longitude</th>\n",
       "      <th>pickup_latitude</th>\n",
       "      <th>dropoff_longitude</th>\n",
       "      <th>dropoff_latitude</th>\n",
       "      <th>passenger_count</th>\n",
       "    </tr>\n",
       "  </thead>\n",
       "  <tbody>\n",
       "    <tr>\n",
       "      <th>0</th>\n",
       "      <td>2015-01-27 13:08:24 UTC</td>\n",
       "      <td>-73.973320</td>\n",
       "      <td>40.763805</td>\n",
       "      <td>-73.981430</td>\n",
       "      <td>40.743835</td>\n",
       "      <td>1</td>\n",
       "    </tr>\n",
       "    <tr>\n",
       "      <th>1</th>\n",
       "      <td>2015-01-27 13:08:24 UTC</td>\n",
       "      <td>-73.986862</td>\n",
       "      <td>40.719383</td>\n",
       "      <td>-73.998886</td>\n",
       "      <td>40.739201</td>\n",
       "      <td>1</td>\n",
       "    </tr>\n",
       "    <tr>\n",
       "      <th>2</th>\n",
       "      <td>2011-10-08 11:53:44 UTC</td>\n",
       "      <td>-73.982524</td>\n",
       "      <td>40.751260</td>\n",
       "      <td>-73.979654</td>\n",
       "      <td>40.746139</td>\n",
       "      <td>1</td>\n",
       "    </tr>\n",
       "    <tr>\n",
       "      <th>3</th>\n",
       "      <td>2012-12-01 21:12:12 UTC</td>\n",
       "      <td>-73.981160</td>\n",
       "      <td>40.767807</td>\n",
       "      <td>-73.990448</td>\n",
       "      <td>40.751635</td>\n",
       "      <td>1</td>\n",
       "    </tr>\n",
       "    <tr>\n",
       "      <th>4</th>\n",
       "      <td>2012-12-01 21:12:12 UTC</td>\n",
       "      <td>-73.966046</td>\n",
       "      <td>40.789775</td>\n",
       "      <td>-73.988565</td>\n",
       "      <td>40.744427</td>\n",
       "      <td>1</td>\n",
       "    </tr>\n",
       "  </tbody>\n",
       "</table>\n",
       "</div>"
      ],
      "text/plain": [
       "           pickup_datetime  pickup_longitude  pickup_latitude  \\\n",
       "0  2015-01-27 13:08:24 UTC        -73.973320        40.763805   \n",
       "1  2015-01-27 13:08:24 UTC        -73.986862        40.719383   \n",
       "2  2011-10-08 11:53:44 UTC        -73.982524        40.751260   \n",
       "3  2012-12-01 21:12:12 UTC        -73.981160        40.767807   \n",
       "4  2012-12-01 21:12:12 UTC        -73.966046        40.789775   \n",
       "\n",
       "   dropoff_longitude  dropoff_latitude  passenger_count  \n",
       "0         -73.981430         40.743835                1  \n",
       "1         -73.998886         40.739201                1  \n",
       "2         -73.979654         40.746139                1  \n",
       "3         -73.990448         40.751635                1  \n",
       "4         -73.988565         40.744427                1  "
      ]
     },
     "execution_count": 46,
     "metadata": {},
     "output_type": "execute_result"
    }
   ],
   "source": [
    "test.head()"
   ]
  },
  {
   "cell_type": "code",
   "execution_count": 4,
   "metadata": {},
   "outputs": [
    {
     "data": {
      "text/html": [
       "<div>\n",
       "<style scoped>\n",
       "    .dataframe tbody tr th:only-of-type {\n",
       "        vertical-align: middle;\n",
       "    }\n",
       "\n",
       "    .dataframe tbody tr th {\n",
       "        vertical-align: top;\n",
       "    }\n",
       "\n",
       "    .dataframe thead th {\n",
       "        text-align: right;\n",
       "    }\n",
       "</style>\n",
       "<table border=\"1\" class=\"dataframe\">\n",
       "  <thead>\n",
       "    <tr style=\"text-align: right;\">\n",
       "      <th></th>\n",
       "      <th>fare_amount</th>\n",
       "      <th>pickup_datetime</th>\n",
       "      <th>pickup_longitude</th>\n",
       "      <th>pickup_latitude</th>\n",
       "      <th>dropoff_longitude</th>\n",
       "      <th>dropoff_latitude</th>\n",
       "      <th>passenger_count</th>\n",
       "    </tr>\n",
       "  </thead>\n",
       "  <tbody>\n",
       "    <tr>\n",
       "      <th>0</th>\n",
       "      <td>4.5</td>\n",
       "      <td>2009-06-15 17:26:21 UTC</td>\n",
       "      <td>-73.844311</td>\n",
       "      <td>40.721319</td>\n",
       "      <td>-73.841610</td>\n",
       "      <td>40.712278</td>\n",
       "      <td>1.0</td>\n",
       "    </tr>\n",
       "    <tr>\n",
       "      <th>1</th>\n",
       "      <td>16.9</td>\n",
       "      <td>2010-01-05 16:52:16 UTC</td>\n",
       "      <td>-74.016048</td>\n",
       "      <td>40.711303</td>\n",
       "      <td>-73.979268</td>\n",
       "      <td>40.782004</td>\n",
       "      <td>1.0</td>\n",
       "    </tr>\n",
       "    <tr>\n",
       "      <th>2</th>\n",
       "      <td>5.7</td>\n",
       "      <td>2011-08-18 00:35:00 UTC</td>\n",
       "      <td>-73.982738</td>\n",
       "      <td>40.761270</td>\n",
       "      <td>-73.991242</td>\n",
       "      <td>40.750562</td>\n",
       "      <td>2.0</td>\n",
       "    </tr>\n",
       "    <tr>\n",
       "      <th>3</th>\n",
       "      <td>7.7</td>\n",
       "      <td>2012-04-21 04:30:42 UTC</td>\n",
       "      <td>-73.987130</td>\n",
       "      <td>40.733143</td>\n",
       "      <td>-73.991567</td>\n",
       "      <td>40.758092</td>\n",
       "      <td>1.0</td>\n",
       "    </tr>\n",
       "    <tr>\n",
       "      <th>4</th>\n",
       "      <td>5.3</td>\n",
       "      <td>2010-03-09 07:51:00 UTC</td>\n",
       "      <td>-73.968095</td>\n",
       "      <td>40.768008</td>\n",
       "      <td>-73.956655</td>\n",
       "      <td>40.783762</td>\n",
       "      <td>1.0</td>\n",
       "    </tr>\n",
       "  </tbody>\n",
       "</table>\n",
       "</div>"
      ],
      "text/plain": [
       "  fare_amount          pickup_datetime  pickup_longitude  pickup_latitude  \\\n",
       "0         4.5  2009-06-15 17:26:21 UTC        -73.844311        40.721319   \n",
       "1        16.9  2010-01-05 16:52:16 UTC        -74.016048        40.711303   \n",
       "2         5.7  2011-08-18 00:35:00 UTC        -73.982738        40.761270   \n",
       "3         7.7  2012-04-21 04:30:42 UTC        -73.987130        40.733143   \n",
       "4         5.3  2010-03-09 07:51:00 UTC        -73.968095        40.768008   \n",
       "\n",
       "   dropoff_longitude  dropoff_latitude  passenger_count  \n",
       "0         -73.841610         40.712278              1.0  \n",
       "1         -73.979268         40.782004              1.0  \n",
       "2         -73.991242         40.750562              2.0  \n",
       "3         -73.991567         40.758092              1.0  \n",
       "4         -73.956655         40.783762              1.0  "
      ]
     },
     "execution_count": 4,
     "metadata": {},
     "output_type": "execute_result"
    }
   ],
   "source": [
    "train.head()"
   ]
  },
  {
   "cell_type": "code",
   "execution_count": 49,
   "metadata": {},
   "outputs": [
    {
     "name": "stdout",
     "output_type": "stream",
     "text": [
      "<class 'pandas.core.frame.DataFrame'>\n",
      "RangeIndex: 16067 entries, 0 to 16066\n",
      "Data columns (total 7 columns):\n",
      "fare_amount          16043 non-null object\n",
      "pickup_datetime      16067 non-null object\n",
      "pickup_longitude     16067 non-null float64\n",
      "pickup_latitude      16067 non-null float64\n",
      "dropoff_longitude    16067 non-null float64\n",
      "dropoff_latitude     16067 non-null float64\n",
      "passenger_count      16012 non-null float64\n",
      "dtypes: float64(5), object(2)\n",
      "memory usage: 878.7+ KB\n"
     ]
    }
   ],
   "source": [
    "train.info()"
   ]
  },
  {
   "cell_type": "code",
   "execution_count": 90,
   "metadata": {},
   "outputs": [
    {
     "data": {
      "text/html": [
       "<div>\n",
       "<style scoped>\n",
       "    .dataframe tbody tr th:only-of-type {\n",
       "        vertical-align: middle;\n",
       "    }\n",
       "\n",
       "    .dataframe tbody tr th {\n",
       "        vertical-align: top;\n",
       "    }\n",
       "\n",
       "    .dataframe thead th {\n",
       "        text-align: right;\n",
       "    }\n",
       "</style>\n",
       "<table border=\"1\" class=\"dataframe\">\n",
       "  <thead>\n",
       "    <tr style=\"text-align: right;\">\n",
       "      <th></th>\n",
       "      <th>fare_amount</th>\n",
       "      <th>pickup_longitude</th>\n",
       "      <th>pickup_latitude</th>\n",
       "      <th>dropoff_longitude</th>\n",
       "      <th>dropoff_latitude</th>\n",
       "      <th>passenger_count</th>\n",
       "    </tr>\n",
       "  </thead>\n",
       "  <tbody>\n",
       "    <tr>\n",
       "      <th>count</th>\n",
       "      <td>16042.000000</td>\n",
       "      <td>16067.000000</td>\n",
       "      <td>16067.000000</td>\n",
       "      <td>16067.000000</td>\n",
       "      <td>16067.000000</td>\n",
       "      <td>16012.000000</td>\n",
       "    </tr>\n",
       "    <tr>\n",
       "      <th>mean</th>\n",
       "      <td>15.015004</td>\n",
       "      <td>-72.462787</td>\n",
       "      <td>39.914725</td>\n",
       "      <td>-72.462328</td>\n",
       "      <td>39.897906</td>\n",
       "      <td>2.625070</td>\n",
       "    </tr>\n",
       "    <tr>\n",
       "      <th>std</th>\n",
       "      <td>430.460945</td>\n",
       "      <td>10.578384</td>\n",
       "      <td>6.826587</td>\n",
       "      <td>10.575062</td>\n",
       "      <td>6.187087</td>\n",
       "      <td>60.844122</td>\n",
       "    </tr>\n",
       "    <tr>\n",
       "      <th>min</th>\n",
       "      <td>-3.000000</td>\n",
       "      <td>-74.438233</td>\n",
       "      <td>-74.006893</td>\n",
       "      <td>-74.429332</td>\n",
       "      <td>-74.006377</td>\n",
       "      <td>0.000000</td>\n",
       "    </tr>\n",
       "    <tr>\n",
       "      <th>25%</th>\n",
       "      <td>6.000000</td>\n",
       "      <td>-73.992156</td>\n",
       "      <td>40.734927</td>\n",
       "      <td>-73.991182</td>\n",
       "      <td>40.734651</td>\n",
       "      <td>1.000000</td>\n",
       "    </tr>\n",
       "    <tr>\n",
       "      <th>50%</th>\n",
       "      <td>8.500000</td>\n",
       "      <td>-73.981698</td>\n",
       "      <td>40.752603</td>\n",
       "      <td>-73.980172</td>\n",
       "      <td>40.753567</td>\n",
       "      <td>1.000000</td>\n",
       "    </tr>\n",
       "    <tr>\n",
       "      <th>75%</th>\n",
       "      <td>12.500000</td>\n",
       "      <td>-73.966838</td>\n",
       "      <td>40.767381</td>\n",
       "      <td>-73.963643</td>\n",
       "      <td>40.768013</td>\n",
       "      <td>2.000000</td>\n",
       "    </tr>\n",
       "    <tr>\n",
       "      <th>max</th>\n",
       "      <td>54343.000000</td>\n",
       "      <td>40.766125</td>\n",
       "      <td>401.083332</td>\n",
       "      <td>40.802437</td>\n",
       "      <td>41.366138</td>\n",
       "      <td>5345.000000</td>\n",
       "    </tr>\n",
       "  </tbody>\n",
       "</table>\n",
       "</div>"
      ],
      "text/plain": [
       "        fare_amount  pickup_longitude  pickup_latitude  dropoff_longitude  \\\n",
       "count  16042.000000      16067.000000     16067.000000       16067.000000   \n",
       "mean      15.015004        -72.462787        39.914725         -72.462328   \n",
       "std      430.460945         10.578384         6.826587          10.575062   \n",
       "min       -3.000000        -74.438233       -74.006893         -74.429332   \n",
       "25%        6.000000        -73.992156        40.734927         -73.991182   \n",
       "50%        8.500000        -73.981698        40.752603         -73.980172   \n",
       "75%       12.500000        -73.966838        40.767381         -73.963643   \n",
       "max    54343.000000         40.766125       401.083332          40.802437   \n",
       "\n",
       "       dropoff_latitude  passenger_count  \n",
       "count      16067.000000     16012.000000  \n",
       "mean          39.897906         2.625070  \n",
       "std            6.187087        60.844122  \n",
       "min          -74.006377         0.000000  \n",
       "25%           40.734651         1.000000  \n",
       "50%           40.753567         1.000000  \n",
       "75%           40.768013         2.000000  \n",
       "max           41.366138      5345.000000  "
      ]
     },
     "execution_count": 90,
     "metadata": {},
     "output_type": "execute_result"
    }
   ],
   "source": [
    "train.describe()"
   ]
  },
  {
   "cell_type": "markdown",
   "metadata": {},
   "source": [
    "### 1) Knowing the data"
   ]
  },
  {
   "cell_type": "code",
   "execution_count": 4,
   "metadata": {},
   "outputs": [
    {
     "data": {
      "text/plain": [
       "str"
      ]
     },
     "execution_count": 4,
     "metadata": {},
     "output_type": "execute_result"
    }
   ],
   "source": [
    "type(train['fare_amount'][0])"
   ]
  },
  {
   "cell_type": "code",
   "execution_count": 57,
   "metadata": {},
   "outputs": [],
   "source": [
    "#Type of fare is string. It needs to be converted to numeric for further usage\n",
    "train['fare_amount'] = pd.to_numeric(train['fare_amount'], errors='coerce_numeric')\n",
    "#There were non-numeric amounts like 430- which were converted to NaN using coerce_numeric. NaN values will be filled in later."
   ]
  },
  {
   "cell_type": "code",
   "execution_count": 58,
   "metadata": {},
   "outputs": [],
   "source": [
    "#Negative values of fare are not possible thus were converted to NaN\n",
    "train.loc[train['fare_amount']<0, 'fare_amount'] = np.nan"
   ]
  },
  {
   "cell_type": "code",
   "execution_count": 59,
   "metadata": {},
   "outputs": [],
   "source": [
    "#Less than 1 and greater than 6 passengers cannot travel at a time thus converted such passenger_count to NaN\n",
    "train.loc[(train['passenger_count']<1) | (train['passenger_count']>6),'passenger_count'] = np.nan"
   ]
  },
  {
   "cell_type": "code",
   "execution_count": 121,
   "metadata": {
    "collapsed": true
   },
   "outputs": [
    {
     "data": {
      "text/html": [
       "<div>\n",
       "<style scoped>\n",
       "    .dataframe tbody tr th:only-of-type {\n",
       "        vertical-align: middle;\n",
       "    }\n",
       "\n",
       "    .dataframe tbody tr th {\n",
       "        vertical-align: top;\n",
       "    }\n",
       "\n",
       "    .dataframe thead th {\n",
       "        text-align: right;\n",
       "    }\n",
       "</style>\n",
       "<table border=\"1\" class=\"dataframe\">\n",
       "  <thead>\n",
       "    <tr style=\"text-align: right;\">\n",
       "      <th></th>\n",
       "      <th>fare_amount</th>\n",
       "      <th>pickup_datetime</th>\n",
       "      <th>pickup_longitude</th>\n",
       "      <th>pickup_latitude</th>\n",
       "      <th>dropoff_longitude</th>\n",
       "      <th>dropoff_latitude</th>\n",
       "      <th>passenger_count</th>\n",
       "    </tr>\n",
       "  </thead>\n",
       "  <tbody>\n",
       "    <tr>\n",
       "      <th>31</th>\n",
       "      <td>22.54</td>\n",
       "      <td>2015-06-21 21:46:34 UTC</td>\n",
       "      <td>-74.010483</td>\n",
       "      <td>40.717667</td>\n",
       "      <td>-73.985771</td>\n",
       "      <td>40.660366</td>\n",
       "      <td>NaN</td>\n",
       "    </tr>\n",
       "    <tr>\n",
       "      <th>64</th>\n",
       "      <td>7.30</td>\n",
       "      <td>2011-11-07 10:47:40 UTC</td>\n",
       "      <td>-74.003919</td>\n",
       "      <td>40.753019</td>\n",
       "      <td>-73.992368</td>\n",
       "      <td>40.735362</td>\n",
       "      <td>NaN</td>\n",
       "    </tr>\n",
       "    <tr>\n",
       "      <th>82</th>\n",
       "      <td>8.50</td>\n",
       "      <td>2013-06-14 08:27:43 UTC</td>\n",
       "      <td>-73.953710</td>\n",
       "      <td>40.790813</td>\n",
       "      <td>-73.957015</td>\n",
       "      <td>40.777676</td>\n",
       "      <td>NaN</td>\n",
       "    </tr>\n",
       "    <tr>\n",
       "      <th>97</th>\n",
       "      <td>9.00</td>\n",
       "      <td>2014-12-07 12:26:00 UTC</td>\n",
       "      <td>-73.984977</td>\n",
       "      <td>40.752122</td>\n",
       "      <td>-74.000925</td>\n",
       "      <td>40.757982</td>\n",
       "      <td>NaN</td>\n",
       "    </tr>\n",
       "    <tr>\n",
       "      <th>112</th>\n",
       "      <td>35.00</td>\n",
       "      <td>2012-12-06 18:05:00 UTC</td>\n",
       "      <td>-73.953310</td>\n",
       "      <td>40.787772</td>\n",
       "      <td>-73.944352</td>\n",
       "      <td>40.719772</td>\n",
       "      <td>NaN</td>\n",
       "    </tr>\n",
       "    <tr>\n",
       "      <th>133</th>\n",
       "      <td>10.50</td>\n",
       "      <td>2012-02-03 13:46:35 UTC</td>\n",
       "      <td>-73.988006</td>\n",
       "      <td>40.737723</td>\n",
       "      <td>-73.965699</td>\n",
       "      <td>40.766095</td>\n",
       "      <td>NaN</td>\n",
       "    </tr>\n",
       "    <tr>\n",
       "      <th>150</th>\n",
       "      <td>17.30</td>\n",
       "      <td>2010-05-17 07:44:00 UTC</td>\n",
       "      <td>-73.950972</td>\n",
       "      <td>40.785633</td>\n",
       "      <td>-74.010240</td>\n",
       "      <td>40.720302</td>\n",
       "      <td>NaN</td>\n",
       "    </tr>\n",
       "    <tr>\n",
       "      <th>174</th>\n",
       "      <td>10.50</td>\n",
       "      <td>2015-02-27 07:50:56 UTC</td>\n",
       "      <td>-73.944023</td>\n",
       "      <td>40.775959</td>\n",
       "      <td>-73.955048</td>\n",
       "      <td>40.785080</td>\n",
       "      <td>NaN</td>\n",
       "    </tr>\n",
       "    <tr>\n",
       "      <th>195</th>\n",
       "      <td>16.00</td>\n",
       "      <td>2014-02-05 00:28:00 UTC</td>\n",
       "      <td>-73.996652</td>\n",
       "      <td>40.744495</td>\n",
       "      <td>-73.980253</td>\n",
       "      <td>40.737635</td>\n",
       "      <td>NaN</td>\n",
       "    </tr>\n",
       "    <tr>\n",
       "      <th>203</th>\n",
       "      <td>11.30</td>\n",
       "      <td>2012-04-25 20:39:00 UTC</td>\n",
       "      <td>-73.993973</td>\n",
       "      <td>40.746577</td>\n",
       "      <td>-74.005060</td>\n",
       "      <td>40.709365</td>\n",
       "      <td>NaN</td>\n",
       "    </tr>\n",
       "    <tr>\n",
       "      <th>218</th>\n",
       "      <td>7.30</td>\n",
       "      <td>2011-02-27 14:45:00 UTC</td>\n",
       "      <td>-73.983758</td>\n",
       "      <td>40.746430</td>\n",
       "      <td>-73.963557</td>\n",
       "      <td>40.774088</td>\n",
       "      <td>NaN</td>\n",
       "    </tr>\n",
       "    <tr>\n",
       "      <th>446</th>\n",
       "      <td>13.30</td>\n",
       "      <td>2010-02-26 23:56:00 UTC</td>\n",
       "      <td>-73.997710</td>\n",
       "      <td>40.756485</td>\n",
       "      <td>-73.987518</td>\n",
       "      <td>40.721337</td>\n",
       "      <td>NaN</td>\n",
       "    </tr>\n",
       "    <tr>\n",
       "      <th>467</th>\n",
       "      <td>16.10</td>\n",
       "      <td>2010-08-03 14:58:00 UTC</td>\n",
       "      <td>-74.004610</td>\n",
       "      <td>40.716322</td>\n",
       "      <td>-74.003732</td>\n",
       "      <td>40.658428</td>\n",
       "      <td>NaN</td>\n",
       "    </tr>\n",
       "    <tr>\n",
       "      <th>494</th>\n",
       "      <td>5.50</td>\n",
       "      <td>2015-05-16 11:33:57 UTC</td>\n",
       "      <td>-73.973618</td>\n",
       "      <td>40.784641</td>\n",
       "      <td>-73.970451</td>\n",
       "      <td>40.796120</td>\n",
       "      <td>NaN</td>\n",
       "    </tr>\n",
       "    <tr>\n",
       "      <th>533</th>\n",
       "      <td>6.10</td>\n",
       "      <td>2010-10-23 12:11:31 UTC</td>\n",
       "      <td>-73.993656</td>\n",
       "      <td>40.747350</td>\n",
       "      <td>-73.982864</td>\n",
       "      <td>40.742636</td>\n",
       "      <td>NaN</td>\n",
       "    </tr>\n",
       "    <tr>\n",
       "      <th>534</th>\n",
       "      <td>5.70</td>\n",
       "      <td>2012-03-15 23:48:00 UTC</td>\n",
       "      <td>-73.954327</td>\n",
       "      <td>40.764005</td>\n",
       "      <td>-73.956155</td>\n",
       "      <td>40.775967</td>\n",
       "      <td>NaN</td>\n",
       "    </tr>\n",
       "    <tr>\n",
       "      <th>572</th>\n",
       "      <td>4.50</td>\n",
       "      <td>2009-01-06 22:30:00 UTC</td>\n",
       "      <td>-73.998965</td>\n",
       "      <td>40.738310</td>\n",
       "      <td>-73.997162</td>\n",
       "      <td>40.747027</td>\n",
       "      <td>NaN</td>\n",
       "    </tr>\n",
       "    <tr>\n",
       "      <th>573</th>\n",
       "      <td>4.90</td>\n",
       "      <td>2009-12-31 22:27:00 UTC</td>\n",
       "      <td>-73.996958</td>\n",
       "      <td>40.722988</td>\n",
       "      <td>-74.005807</td>\n",
       "      <td>40.726383</td>\n",
       "      <td>NaN</td>\n",
       "    </tr>\n",
       "    <tr>\n",
       "      <th>574</th>\n",
       "      <td>7.30</td>\n",
       "      <td>2010-07-02 16:58:45 UTC</td>\n",
       "      <td>-73.978321</td>\n",
       "      <td>40.753844</td>\n",
       "      <td>-73.982309</td>\n",
       "      <td>40.777037</td>\n",
       "      <td>NaN</td>\n",
       "    </tr>\n",
       "    <tr>\n",
       "      <th>575</th>\n",
       "      <td>5.30</td>\n",
       "      <td>2011-02-02 07:52:21 UTC</td>\n",
       "      <td>-74.006924</td>\n",
       "      <td>40.703967</td>\n",
       "      <td>-74.012995</td>\n",
       "      <td>40.705742</td>\n",
       "      <td>NaN</td>\n",
       "    </tr>\n",
       "    <tr>\n",
       "      <th>576</th>\n",
       "      <td>14.10</td>\n",
       "      <td>2011-02-04 18:43:06 UTC</td>\n",
       "      <td>-74.003605</td>\n",
       "      <td>40.720436</td>\n",
       "      <td>-73.985766</td>\n",
       "      <td>40.759837</td>\n",
       "      <td>NaN</td>\n",
       "    </tr>\n",
       "    <tr>\n",
       "      <th>577</th>\n",
       "      <td>6.50</td>\n",
       "      <td>2014-06-02 08:31:14 UTC</td>\n",
       "      <td>-73.966418</td>\n",
       "      <td>40.770348</td>\n",
       "      <td>-73.955528</td>\n",
       "      <td>40.765830</td>\n",
       "      <td>NaN</td>\n",
       "    </tr>\n",
       "    <tr>\n",
       "      <th>626</th>\n",
       "      <td>11.30</td>\n",
       "      <td>2012-04-30 19:19:00 UTC</td>\n",
       "      <td>-73.969548</td>\n",
       "      <td>40.800192</td>\n",
       "      <td>-73.979993</td>\n",
       "      <td>40.764630</td>\n",
       "      <td>NaN</td>\n",
       "    </tr>\n",
       "    <tr>\n",
       "      <th>662</th>\n",
       "      <td>10.50</td>\n",
       "      <td>2011-06-30 08:08:14 UTC</td>\n",
       "      <td>-73.959055</td>\n",
       "      <td>40.814999</td>\n",
       "      <td>-73.957878</td>\n",
       "      <td>40.778607</td>\n",
       "      <td>NaN</td>\n",
       "    </tr>\n",
       "    <tr>\n",
       "      <th>698</th>\n",
       "      <td>11.00</td>\n",
       "      <td>2013-05-15 16:56:45 UTC</td>\n",
       "      <td>-73.979658</td>\n",
       "      <td>40.758764</td>\n",
       "      <td>-73.956570</td>\n",
       "      <td>40.768108</td>\n",
       "      <td>NaN</td>\n",
       "    </tr>\n",
       "    <tr>\n",
       "      <th>734</th>\n",
       "      <td>16.50</td>\n",
       "      <td>2012-09-10 14:39:00 UTC</td>\n",
       "      <td>-73.988522</td>\n",
       "      <td>40.737147</td>\n",
       "      <td>-73.986408</td>\n",
       "      <td>40.776832</td>\n",
       "      <td>NaN</td>\n",
       "    </tr>\n",
       "    <tr>\n",
       "      <th>773</th>\n",
       "      <td>5.50</td>\n",
       "      <td>2013-10-15 07:48:17 UTC</td>\n",
       "      <td>-73.989863</td>\n",
       "      <td>40.734053</td>\n",
       "      <td>-73.979853</td>\n",
       "      <td>40.744464</td>\n",
       "      <td>NaN</td>\n",
       "    </tr>\n",
       "    <tr>\n",
       "      <th>788</th>\n",
       "      <td>6.00</td>\n",
       "      <td>2014-03-12 13:13:14 UTC</td>\n",
       "      <td>-73.977032</td>\n",
       "      <td>40.750545</td>\n",
       "      <td>-73.990488</td>\n",
       "      <td>40.737205</td>\n",
       "      <td>NaN</td>\n",
       "    </tr>\n",
       "    <tr>\n",
       "      <th>842</th>\n",
       "      <td>9.50</td>\n",
       "      <td>2013-02-14 19:35:44 UTC</td>\n",
       "      <td>-74.005739</td>\n",
       "      <td>40.740252</td>\n",
       "      <td>-74.011023</td>\n",
       "      <td>40.716267</td>\n",
       "      <td>NaN</td>\n",
       "    </tr>\n",
       "    <tr>\n",
       "      <th>899</th>\n",
       "      <td>4.90</td>\n",
       "      <td>2011-03-16 17:05:00 UTC</td>\n",
       "      <td>-73.964922</td>\n",
       "      <td>40.764382</td>\n",
       "      <td>-73.954068</td>\n",
       "      <td>40.778877</td>\n",
       "      <td>NaN</td>\n",
       "    </tr>\n",
       "    <tr>\n",
       "      <th>941</th>\n",
       "      <td>12.90</td>\n",
       "      <td>2010-07-11 13:32:00 UTC</td>\n",
       "      <td>-73.972740</td>\n",
       "      <td>40.753488</td>\n",
       "      <td>-74.006575</td>\n",
       "      <td>40.741452</td>\n",
       "      <td>NaN</td>\n",
       "    </tr>\n",
       "    <tr>\n",
       "      <th>1361</th>\n",
       "      <td>12.50</td>\n",
       "      <td>2011-01-18 15:14:00 UTC</td>\n",
       "      <td>-73.991753</td>\n",
       "      <td>40.731875</td>\n",
       "      <td>-73.967462</td>\n",
       "      <td>40.760708</td>\n",
       "      <td>NaN</td>\n",
       "    </tr>\n",
       "    <tr>\n",
       "      <th>1399</th>\n",
       "      <td>6.90</td>\n",
       "      <td>2010-01-27 07:08:00 UTC</td>\n",
       "      <td>-73.998760</td>\n",
       "      <td>40.735550</td>\n",
       "      <td>-73.985808</td>\n",
       "      <td>40.753593</td>\n",
       "      <td>NaN</td>\n",
       "    </tr>\n",
       "    <tr>\n",
       "      <th>1400</th>\n",
       "      <td>7.00</td>\n",
       "      <td>2013-05-07 01:11:53 UTC</td>\n",
       "      <td>-74.007580</td>\n",
       "      <td>40.743351</td>\n",
       "      <td>-73.989144</td>\n",
       "      <td>40.744682</td>\n",
       "      <td>NaN</td>\n",
       "    </tr>\n",
       "    <tr>\n",
       "      <th>1459</th>\n",
       "      <td>5.70</td>\n",
       "      <td>2009-05-06 19:21:21 UTC</td>\n",
       "      <td>-73.974764</td>\n",
       "      <td>40.756522</td>\n",
       "      <td>-73.983534</td>\n",
       "      <td>40.762873</td>\n",
       "      <td>NaN</td>\n",
       "    </tr>\n",
       "    <tr>\n",
       "      <th>1748</th>\n",
       "      <td>7.50</td>\n",
       "      <td>2012-12-12 07:06:13 UTC</td>\n",
       "      <td>-73.991310</td>\n",
       "      <td>40.749765</td>\n",
       "      <td>-73.982617</td>\n",
       "      <td>40.758072</td>\n",
       "      <td>NaN</td>\n",
       "    </tr>\n",
       "    <tr>\n",
       "      <th>1790</th>\n",
       "      <td>6.00</td>\n",
       "      <td>2014-08-06 13:07:00 UTC</td>\n",
       "      <td>-73.997752</td>\n",
       "      <td>40.725990</td>\n",
       "      <td>-73.998160</td>\n",
       "      <td>40.735422</td>\n",
       "      <td>NaN</td>\n",
       "    </tr>\n",
       "    <tr>\n",
       "      <th>1851</th>\n",
       "      <td>6.10</td>\n",
       "      <td>2012-02-28 15:45:00 UTC</td>\n",
       "      <td>-73.971615</td>\n",
       "      <td>40.757065</td>\n",
       "      <td>-73.969575</td>\n",
       "      <td>40.764625</td>\n",
       "      <td>NaN</td>\n",
       "    </tr>\n",
       "    <tr>\n",
       "      <th>1921</th>\n",
       "      <td>15.00</td>\n",
       "      <td>2013-08-26 17:26:56 UTC</td>\n",
       "      <td>-74.010847</td>\n",
       "      <td>40.709710</td>\n",
       "      <td>-73.989897</td>\n",
       "      <td>40.749737</td>\n",
       "      <td>NaN</td>\n",
       "    </tr>\n",
       "    <tr>\n",
       "      <th>1984</th>\n",
       "      <td>6.50</td>\n",
       "      <td>2014-05-23 23:45:00 UTC</td>\n",
       "      <td>-73.955408</td>\n",
       "      <td>40.819957</td>\n",
       "      <td>-73.949652</td>\n",
       "      <td>40.809435</td>\n",
       "      <td>NaN</td>\n",
       "    </tr>\n",
       "    <tr>\n",
       "      <th>1987</th>\n",
       "      <td>10.50</td>\n",
       "      <td>2013-04-15 16:27:09 UTC</td>\n",
       "      <td>-73.972426</td>\n",
       "      <td>40.793910</td>\n",
       "      <td>-73.983174</td>\n",
       "      <td>40.762330</td>\n",
       "      <td>NaN</td>\n",
       "    </tr>\n",
       "    <tr>\n",
       "      <th>2104</th>\n",
       "      <td>5.70</td>\n",
       "      <td>2009-08-27 19:34:33 UTC</td>\n",
       "      <td>-73.981941</td>\n",
       "      <td>40.767557</td>\n",
       "      <td>-73.987830</td>\n",
       "      <td>40.761288</td>\n",
       "      <td>NaN</td>\n",
       "    </tr>\n",
       "    <tr>\n",
       "      <th>2230</th>\n",
       "      <td>14.50</td>\n",
       "      <td>2014-07-18 20:09:41 UTC</td>\n",
       "      <td>-73.993286</td>\n",
       "      <td>40.767728</td>\n",
       "      <td>-74.001502</td>\n",
       "      <td>40.722636</td>\n",
       "      <td>NaN</td>\n",
       "    </tr>\n",
       "    <tr>\n",
       "      <th>2378</th>\n",
       "      <td>9.00</td>\n",
       "      <td>2013-12-18 13:42:23 UTC</td>\n",
       "      <td>-73.973804</td>\n",
       "      <td>40.757712</td>\n",
       "      <td>-73.986007</td>\n",
       "      <td>40.741275</td>\n",
       "      <td>NaN</td>\n",
       "    </tr>\n",
       "    <tr>\n",
       "      <th>7787</th>\n",
       "      <td>4.00</td>\n",
       "      <td>2013-11-16 07:25:20 UTC</td>\n",
       "      <td>-73.977751</td>\n",
       "      <td>40.742508</td>\n",
       "      <td>-73.977063</td>\n",
       "      <td>40.736760</td>\n",
       "      <td>NaN</td>\n",
       "    </tr>\n",
       "    <tr>\n",
       "      <th>7805</th>\n",
       "      <td>5.30</td>\n",
       "      <td>2011-09-19 23:58:37 UTC</td>\n",
       "      <td>-73.988380</td>\n",
       "      <td>40.774687</td>\n",
       "      <td>-73.993982</td>\n",
       "      <td>40.760690</td>\n",
       "      <td>NaN</td>\n",
       "    </tr>\n",
       "    <tr>\n",
       "      <th>7847</th>\n",
       "      <td>9.50</td>\n",
       "      <td>2013-09-28 14:37:00 UTC</td>\n",
       "      <td>-73.986723</td>\n",
       "      <td>40.725725</td>\n",
       "      <td>-73.959888</td>\n",
       "      <td>40.762547</td>\n",
       "      <td>NaN</td>\n",
       "    </tr>\n",
       "    <tr>\n",
       "      <th>7892</th>\n",
       "      <td>8.50</td>\n",
       "      <td>2015-05-03 16:45:10 UTC</td>\n",
       "      <td>-74.001312</td>\n",
       "      <td>40.751938</td>\n",
       "      <td>-73.981697</td>\n",
       "      <td>40.763779</td>\n",
       "      <td>NaN</td>\n",
       "    </tr>\n",
       "    <tr>\n",
       "      <th>7937</th>\n",
       "      <td>17.50</td>\n",
       "      <td>2013-07-13 17:55:23 UTC</td>\n",
       "      <td>-74.010294</td>\n",
       "      <td>40.708637</td>\n",
       "      <td>-73.975516</td>\n",
       "      <td>40.753449</td>\n",
       "      <td>NaN</td>\n",
       "    </tr>\n",
       "    <tr>\n",
       "      <th>8007</th>\n",
       "      <td>7.70</td>\n",
       "      <td>2012-01-22 04:06:10 UTC</td>\n",
       "      <td>-73.992000</td>\n",
       "      <td>40.744255</td>\n",
       "      <td>-74.002782</td>\n",
       "      <td>40.730813</td>\n",
       "      <td>NaN</td>\n",
       "    </tr>\n",
       "    <tr>\n",
       "      <th>8076</th>\n",
       "      <td>6.90</td>\n",
       "      <td>2011-06-06 12:25:00 UTC</td>\n",
       "      <td>-73.976377</td>\n",
       "      <td>40.755685</td>\n",
       "      <td>-73.977942</td>\n",
       "      <td>40.777482</td>\n",
       "      <td>NaN</td>\n",
       "    </tr>\n",
       "    <tr>\n",
       "      <th>8139</th>\n",
       "      <td>4.50</td>\n",
       "      <td>2009-01-18 22:18:00 UTC</td>\n",
       "      <td>-73.989027</td>\n",
       "      <td>40.776792</td>\n",
       "      <td>-73.984375</td>\n",
       "      <td>40.783190</td>\n",
       "      <td>NaN</td>\n",
       "    </tr>\n",
       "    <tr>\n",
       "      <th>8259</th>\n",
       "      <td>57.54</td>\n",
       "      <td>2015-05-03 16:49:52 UTC</td>\n",
       "      <td>-73.781990</td>\n",
       "      <td>40.644798</td>\n",
       "      <td>-73.965096</td>\n",
       "      <td>40.803551</td>\n",
       "      <td>NaN</td>\n",
       "    </tr>\n",
       "    <tr>\n",
       "      <th>8306</th>\n",
       "      <td>6.90</td>\n",
       "      <td>2010-12-12 11:43:16 UTC</td>\n",
       "      <td>-73.983912</td>\n",
       "      <td>40.756814</td>\n",
       "      <td>-73.979796</td>\n",
       "      <td>40.765198</td>\n",
       "      <td>NaN</td>\n",
       "    </tr>\n",
       "    <tr>\n",
       "      <th>16066</th>\n",
       "      <td>8.50</td>\n",
       "      <td>2011-12-14 06:24:33 UTC</td>\n",
       "      <td>-74.002111</td>\n",
       "      <td>40.729755</td>\n",
       "      <td>-73.983877</td>\n",
       "      <td>40.761975</td>\n",
       "      <td>NaN</td>\n",
       "    </tr>\n",
       "  </tbody>\n",
       "</table>\n",
       "</div>"
      ],
      "text/plain": [
       "       fare_amount          pickup_datetime  pickup_longitude  \\\n",
       "31           22.54  2015-06-21 21:46:34 UTC        -74.010483   \n",
       "64            7.30  2011-11-07 10:47:40 UTC        -74.003919   \n",
       "82            8.50  2013-06-14 08:27:43 UTC        -73.953710   \n",
       "97            9.00  2014-12-07 12:26:00 UTC        -73.984977   \n",
       "112          35.00  2012-12-06 18:05:00 UTC        -73.953310   \n",
       "133          10.50  2012-02-03 13:46:35 UTC        -73.988006   \n",
       "150          17.30  2010-05-17 07:44:00 UTC        -73.950972   \n",
       "174          10.50  2015-02-27 07:50:56 UTC        -73.944023   \n",
       "195          16.00  2014-02-05 00:28:00 UTC        -73.996652   \n",
       "203          11.30  2012-04-25 20:39:00 UTC        -73.993973   \n",
       "218           7.30  2011-02-27 14:45:00 UTC        -73.983758   \n",
       "446          13.30  2010-02-26 23:56:00 UTC        -73.997710   \n",
       "467          16.10  2010-08-03 14:58:00 UTC        -74.004610   \n",
       "494           5.50  2015-05-16 11:33:57 UTC        -73.973618   \n",
       "533           6.10  2010-10-23 12:11:31 UTC        -73.993656   \n",
       "534           5.70  2012-03-15 23:48:00 UTC        -73.954327   \n",
       "572           4.50  2009-01-06 22:30:00 UTC        -73.998965   \n",
       "573           4.90  2009-12-31 22:27:00 UTC        -73.996958   \n",
       "574           7.30  2010-07-02 16:58:45 UTC        -73.978321   \n",
       "575           5.30  2011-02-02 07:52:21 UTC        -74.006924   \n",
       "576          14.10  2011-02-04 18:43:06 UTC        -74.003605   \n",
       "577           6.50  2014-06-02 08:31:14 UTC        -73.966418   \n",
       "626          11.30  2012-04-30 19:19:00 UTC        -73.969548   \n",
       "662          10.50  2011-06-30 08:08:14 UTC        -73.959055   \n",
       "698          11.00  2013-05-15 16:56:45 UTC        -73.979658   \n",
       "734          16.50  2012-09-10 14:39:00 UTC        -73.988522   \n",
       "773           5.50  2013-10-15 07:48:17 UTC        -73.989863   \n",
       "788           6.00  2014-03-12 13:13:14 UTC        -73.977032   \n",
       "842           9.50  2013-02-14 19:35:44 UTC        -74.005739   \n",
       "899           4.90  2011-03-16 17:05:00 UTC        -73.964922   \n",
       "941          12.90  2010-07-11 13:32:00 UTC        -73.972740   \n",
       "1361         12.50  2011-01-18 15:14:00 UTC        -73.991753   \n",
       "1399          6.90  2010-01-27 07:08:00 UTC        -73.998760   \n",
       "1400          7.00  2013-05-07 01:11:53 UTC        -74.007580   \n",
       "1459          5.70  2009-05-06 19:21:21 UTC        -73.974764   \n",
       "1748          7.50  2012-12-12 07:06:13 UTC        -73.991310   \n",
       "1790          6.00  2014-08-06 13:07:00 UTC        -73.997752   \n",
       "1851          6.10  2012-02-28 15:45:00 UTC        -73.971615   \n",
       "1921         15.00  2013-08-26 17:26:56 UTC        -74.010847   \n",
       "1984          6.50  2014-05-23 23:45:00 UTC        -73.955408   \n",
       "1987         10.50  2013-04-15 16:27:09 UTC        -73.972426   \n",
       "2104          5.70  2009-08-27 19:34:33 UTC        -73.981941   \n",
       "2230         14.50  2014-07-18 20:09:41 UTC        -73.993286   \n",
       "2378          9.00  2013-12-18 13:42:23 UTC        -73.973804   \n",
       "7787          4.00  2013-11-16 07:25:20 UTC        -73.977751   \n",
       "7805          5.30  2011-09-19 23:58:37 UTC        -73.988380   \n",
       "7847          9.50  2013-09-28 14:37:00 UTC        -73.986723   \n",
       "7892          8.50  2015-05-03 16:45:10 UTC        -74.001312   \n",
       "7937         17.50  2013-07-13 17:55:23 UTC        -74.010294   \n",
       "8007          7.70  2012-01-22 04:06:10 UTC        -73.992000   \n",
       "8076          6.90  2011-06-06 12:25:00 UTC        -73.976377   \n",
       "8139          4.50  2009-01-18 22:18:00 UTC        -73.989027   \n",
       "8259         57.54  2015-05-03 16:49:52 UTC        -73.781990   \n",
       "8306          6.90  2010-12-12 11:43:16 UTC        -73.983912   \n",
       "16066         8.50  2011-12-14 06:24:33 UTC        -74.002111   \n",
       "\n",
       "       pickup_latitude  dropoff_longitude  dropoff_latitude  passenger_count  \n",
       "31           40.717667         -73.985771         40.660366              NaN  \n",
       "64           40.753019         -73.992368         40.735362              NaN  \n",
       "82           40.790813         -73.957015         40.777676              NaN  \n",
       "97           40.752122         -74.000925         40.757982              NaN  \n",
       "112          40.787772         -73.944352         40.719772              NaN  \n",
       "133          40.737723         -73.965699         40.766095              NaN  \n",
       "150          40.785633         -74.010240         40.720302              NaN  \n",
       "174          40.775959         -73.955048         40.785080              NaN  \n",
       "195          40.744495         -73.980253         40.737635              NaN  \n",
       "203          40.746577         -74.005060         40.709365              NaN  \n",
       "218          40.746430         -73.963557         40.774088              NaN  \n",
       "446          40.756485         -73.987518         40.721337              NaN  \n",
       "467          40.716322         -74.003732         40.658428              NaN  \n",
       "494          40.784641         -73.970451         40.796120              NaN  \n",
       "533          40.747350         -73.982864         40.742636              NaN  \n",
       "534          40.764005         -73.956155         40.775967              NaN  \n",
       "572          40.738310         -73.997162         40.747027              NaN  \n",
       "573          40.722988         -74.005807         40.726383              NaN  \n",
       "574          40.753844         -73.982309         40.777037              NaN  \n",
       "575          40.703967         -74.012995         40.705742              NaN  \n",
       "576          40.720436         -73.985766         40.759837              NaN  \n",
       "577          40.770348         -73.955528         40.765830              NaN  \n",
       "626          40.800192         -73.979993         40.764630              NaN  \n",
       "662          40.814999         -73.957878         40.778607              NaN  \n",
       "698          40.758764         -73.956570         40.768108              NaN  \n",
       "734          40.737147         -73.986408         40.776832              NaN  \n",
       "773          40.734053         -73.979853         40.744464              NaN  \n",
       "788          40.750545         -73.990488         40.737205              NaN  \n",
       "842          40.740252         -74.011023         40.716267              NaN  \n",
       "899          40.764382         -73.954068         40.778877              NaN  \n",
       "941          40.753488         -74.006575         40.741452              NaN  \n",
       "1361         40.731875         -73.967462         40.760708              NaN  \n",
       "1399         40.735550         -73.985808         40.753593              NaN  \n",
       "1400         40.743351         -73.989144         40.744682              NaN  \n",
       "1459         40.756522         -73.983534         40.762873              NaN  \n",
       "1748         40.749765         -73.982617         40.758072              NaN  \n",
       "1790         40.725990         -73.998160         40.735422              NaN  \n",
       "1851         40.757065         -73.969575         40.764625              NaN  \n",
       "1921         40.709710         -73.989897         40.749737              NaN  \n",
       "1984         40.819957         -73.949652         40.809435              NaN  \n",
       "1987         40.793910         -73.983174         40.762330              NaN  \n",
       "2104         40.767557         -73.987830         40.761288              NaN  \n",
       "2230         40.767728         -74.001502         40.722636              NaN  \n",
       "2378         40.757712         -73.986007         40.741275              NaN  \n",
       "7787         40.742508         -73.977063         40.736760              NaN  \n",
       "7805         40.774687         -73.993982         40.760690              NaN  \n",
       "7847         40.725725         -73.959888         40.762547              NaN  \n",
       "7892         40.751938         -73.981697         40.763779              NaN  \n",
       "7937         40.708637         -73.975516         40.753449              NaN  \n",
       "8007         40.744255         -74.002782         40.730813              NaN  \n",
       "8076         40.755685         -73.977942         40.777482              NaN  \n",
       "8139         40.776792         -73.984375         40.783190              NaN  \n",
       "8259         40.644798         -73.965096         40.803551              NaN  \n",
       "8306         40.756814         -73.979796         40.765198              NaN  \n",
       "16066        40.729755         -73.983877         40.761975              NaN  "
      ]
     },
     "execution_count": 121,
     "metadata": {},
     "output_type": "execute_result"
    }
   ],
   "source": [
    "train[train['passenger_count'].isna()]"
   ]
  },
  {
   "cell_type": "code",
   "execution_count": 30,
   "metadata": {},
   "outputs": [
    {
     "data": {
      "text/html": [
       "<div>\n",
       "<style scoped>\n",
       "    .dataframe tbody tr th:only-of-type {\n",
       "        vertical-align: middle;\n",
       "    }\n",
       "\n",
       "    .dataframe tbody tr th {\n",
       "        vertical-align: top;\n",
       "    }\n",
       "\n",
       "    .dataframe thead th {\n",
       "        text-align: right;\n",
       "    }\n",
       "</style>\n",
       "<table border=\"1\" class=\"dataframe\">\n",
       "  <thead>\n",
       "    <tr style=\"text-align: right;\">\n",
       "      <th></th>\n",
       "      <th>fare_amount</th>\n",
       "      <th>passenger_count</th>\n",
       "      <th>distance_travelled</th>\n",
       "    </tr>\n",
       "  </thead>\n",
       "  <tbody>\n",
       "    <tr>\n",
       "      <th>count</th>\n",
       "      <td>16066.000000</td>\n",
       "      <td>16066.000000</td>\n",
       "      <td>16066.000000</td>\n",
       "    </tr>\n",
       "    <tr>\n",
       "      <th>mean</th>\n",
       "      <td>15.018556</td>\n",
       "      <td>1.644299</td>\n",
       "      <td>16.026479</td>\n",
       "    </tr>\n",
       "    <tr>\n",
       "      <th>std</th>\n",
       "      <td>430.139215</td>\n",
       "      <td>1.262048</td>\n",
       "      <td>324.814489</td>\n",
       "    </tr>\n",
       "    <tr>\n",
       "      <th>min</th>\n",
       "      <td>0.000000</td>\n",
       "      <td>1.000000</td>\n",
       "      <td>0.000000</td>\n",
       "    </tr>\n",
       "    <tr>\n",
       "      <th>25%</th>\n",
       "      <td>6.000000</td>\n",
       "      <td>1.000000</td>\n",
       "      <td>1.214645</td>\n",
       "    </tr>\n",
       "    <tr>\n",
       "      <th>50%</th>\n",
       "      <td>8.500000</td>\n",
       "      <td>1.000000</td>\n",
       "      <td>2.125121</td>\n",
       "    </tr>\n",
       "    <tr>\n",
       "      <th>75%</th>\n",
       "      <td>12.500000</td>\n",
       "      <td>2.000000</td>\n",
       "      <td>3.847247</td>\n",
       "    </tr>\n",
       "    <tr>\n",
       "      <th>max</th>\n",
       "      <td>54343.000000</td>\n",
       "      <td>6.000000</td>\n",
       "      <td>8667.542104</td>\n",
       "    </tr>\n",
       "  </tbody>\n",
       "</table>\n",
       "</div>"
      ],
      "text/plain": [
       "        fare_amount  passenger_count  distance_travelled\n",
       "count  16066.000000     16066.000000        16066.000000\n",
       "mean      15.018556         1.644299           16.026479\n",
       "std      430.139215         1.262048          324.814489\n",
       "min        0.000000         1.000000            0.000000\n",
       "25%        6.000000         1.000000            1.214645\n",
       "50%        8.500000         1.000000            2.125121\n",
       "75%       12.500000         2.000000            3.847247\n",
       "max    54343.000000         6.000000         8667.542104"
      ]
     },
     "execution_count": 30,
     "metadata": {},
     "output_type": "execute_result"
    }
   ],
   "source": [
    "train.describe()"
   ]
  },
  {
   "cell_type": "code",
   "execution_count": 8,
   "metadata": {},
   "outputs": [
    {
     "data": {
      "text/plain": [
       "fare_amount          0.174270\n",
       "pickup_datetime      0.000000\n",
       "pickup_longitude     0.000000\n",
       "pickup_latitude      0.000000\n",
       "dropoff_longitude    0.000000\n",
       "dropoff_latitude     0.000000\n",
       "passenger_count      0.827784\n",
       "dtype: float64"
      ]
     },
     "execution_count": 8,
     "metadata": {},
     "output_type": "execute_result"
    }
   ],
   "source": [
    "train.isna().sum()/train.shape[0]*100\n",
    "#Variables 'fare_amount' and 'passenger_count' have less than 30% missing values therefore can be filled "
   ]
  },
  {
   "cell_type": "markdown",
   "metadata": {},
   "source": [
    "### 2) Feature selection"
   ]
  },
  {
   "cell_type": "code",
   "execution_count": 60,
   "metadata": {},
   "outputs": [],
   "source": [
    "# Fare depends on the distance travelled rather than latitude and longitude values.Below, I am creating a new variable distance_travelled in kms.\n",
    "\n",
    "from math import radians, cos, sin, asin, sqrt\n",
    "\n",
    "#function to compute distance using latitude and longitude values\n",
    "def haversine(lon1, lat1, lon2, lat2):\n",
    "  # convert decimal degrees to radians \n",
    "  lon1, lat1, lon2, lat2 = map(radians, [lon1, lat1, lon2, lat2])\n",
    " \n",
    "  # haversine formula \n",
    "  dlon = lon2 - lon1 \n",
    "  dlat = lat2 - lat1 \n",
    "  a = sin(dlat/2)**2 + cos(lat1) * cos(lat2) * sin(dlon/2)**2\n",
    "  c = 2 * asin(sqrt(a)) \n",
    "  r = 6371 # Radius of earth in kilometers.\n",
    "  return c * r\n",
    "\n",
    "train['distance_travelled'] = train.apply(lambda x: haversine(x.pickup_longitude,x.pickup_latitude,x.dropoff_longitude,x.dropoff_latitude), axis=1)"
   ]
  },
  {
   "cell_type": "code",
   "execution_count": 61,
   "metadata": {},
   "outputs": [],
   "source": [
    "#Create new variables date and time from pickup_datetime.There was one value in datetime '43' which was taken as NaN using function try and error. \n",
    "from datetime import datetime\n",
    "\n",
    "def convertDatetimeToDate(x):\n",
    "    try:\n",
    "        return datetime.strptime(x, \"%Y-%m-%d %H:%M:%S UTC\").date()\n",
    "    except ValueError as ve:\n",
    "        return np.nan\n",
    "        print('ValueError Raised:', ve)\n",
    "    \n",
    "def convertDatetimeToTime(x):\n",
    "    try:\n",
    "        return datetime.strptime(x, \"%Y-%m-%d %H:%M:%S UTC\").time()\n",
    "    except ValueError as ve:\n",
    "        return np.nan\n",
    "        print('ValueError Raised:', ve)\n",
    "\n",
    "train['Date'] = train['pickup_datetime'].apply(convertDatetimeToDate)\n",
    "train['Time'] = train['pickup_datetime'].apply(convertDatetimeToTime)"
   ]
  },
  {
   "cell_type": "code",
   "execution_count": 62,
   "metadata": {},
   "outputs": [],
   "source": [
    "#We can remove the columns 'pickup_datetime', pickup_longitude','pickup_latitude','dropoff_longitude','dropoff_latitude'\n",
    "train.drop(['pickup_datetime', 'pickup_longitude','pickup_latitude','dropoff_longitude','dropoff_latitude'], axis=1, inplace=True)"
   ]
  },
  {
   "cell_type": "markdown",
   "metadata": {},
   "source": [
    "### 2) Fill missing values"
   ]
  },
  {
   "cell_type": "code",
   "execution_count": 63,
   "metadata": {},
   "outputs": [],
   "source": [
    "#filling missing values in passenger count using mode\n",
    "train.loc[train[\"passenger_count\"].isna(), 'passenger_count'] = train[\"passenger_count\"].mode()[0]"
   ]
  },
  {
   "cell_type": "code",
   "execution_count": 64,
   "metadata": {},
   "outputs": [],
   "source": [
    "#mean to compute null fare_amount\n",
    "train.loc[train[\"fare_amount\"].isna(), 'fare_amount'] = train[\"fare_amount\"].mean()"
   ]
  },
  {
   "cell_type": "code",
   "execution_count": 65,
   "metadata": {},
   "outputs": [],
   "source": [
    "#Since there is only one row with missing Date and Time values, we can drop it harmlessly.\n",
    "train.dropna(inplace=True)"
   ]
  },
  {
   "cell_type": "markdown",
   "metadata": {},
   "source": [
    "### 3) Detect Outliers\n"
   ]
  },
  {
   "cell_type": "code",
   "execution_count": 39,
   "metadata": {},
   "outputs": [
    {
     "data": {
      "text/plain": [
       "<matplotlib.axes._subplots.AxesSubplot at 0x2b505a02128>"
      ]
     },
     "execution_count": 39,
     "metadata": {},
     "output_type": "execute_result"
    },
    {
     "data": {
      "image/png": "[encoded data removed]",
      "text/plain": [
       "<Figure size 432x288 with 1 Axes>"
      ]
     },
     "metadata": {},
     "output_type": "display_data"
    }
   ],
   "source": [
    "plt.xlim(0,10)\n",
    "sns.boxplot(x=train['distance_travelled'])"
   ]
  },
  {
   "cell_type": "code",
   "execution_count": 66,
   "metadata": {},
   "outputs": [
    {
     "data": {
      "text/plain": [
       "<matplotlib.axes._subplots.AxesSubplot at 0x2b506bb7be0>"
      ]
     },
     "execution_count": 66,
     "metadata": {},
     "output_type": "execute_result"
    },
    {
     "data": {
      "image/png": "[encoded data removed]",
      "text/plain": [
       "<Figure size 432x288 with 1 Axes>"
      ]
     },
     "metadata": {},
     "output_type": "display_data"
    }
   ],
   "source": [
    "plt.xlim(0,50)\n",
    "sns.boxplot(x=train['fare_amount'])"
   ]
  },
  {
   "cell_type": "code",
   "execution_count": 68,
   "metadata": {},
   "outputs": [],
   "source": [
    "cnames = ['fare_amount', 'distance_travelled']"
   ]
  },
  {
   "cell_type": "code",
   "execution_count": 69,
   "metadata": {},
   "outputs": [],
   "source": [
    "for i in cnames:\n",
    "    q75, q25 = np.percentile(train.loc[:,i],[75,25])\n",
    "    iqr = q75-q25\n",
    "    min = q25-(iqr*1.5)\n",
    "    max = q75+(iqr*1.5)\n",
    "    train = train.drop(train[train.loc[:,i] < min].index)\n",
    "    train = train.drop(train[train.loc[:,i] > max].index)"
   ]
  },
  {
   "cell_type": "code",
   "execution_count": 51,
   "metadata": {},
   "outputs": [
    {
     "name": "stdout",
     "output_type": "stream",
     "text": [
      "<class 'pandas.core.frame.DataFrame'>\n",
      "Int64Index: 13562 entries, 0 to 16066\n",
      "Data columns (total 7 columns):\n",
      "fare_amount           13562 non-null float64\n",
      "passenger_count       13562 non-null float64\n",
      "distance_travelled    13562 non-null float64\n",
      "Year                  13562 non-null int64\n",
      "Month                 13562 non-null int64\n",
      "Day                   13562 non-null int64\n",
      "Hour                  13562 non-null int64\n",
      "dtypes: float64(3), int64(4)\n",
      "memory usage: 847.6 KB\n"
     ]
    }
   ],
   "source": [
    "train.info()"
   ]
  },
  {
   "cell_type": "code",
   "execution_count": 52,
   "metadata": {},
   "outputs": [
    {
     "data": {
      "text/html": [
       "<div>\n",
       "<style scoped>\n",
       "    .dataframe tbody tr th:only-of-type {\n",
       "        vertical-align: middle;\n",
       "    }\n",
       "\n",
       "    .dataframe tbody tr th {\n",
       "        vertical-align: top;\n",
       "    }\n",
       "\n",
       "    .dataframe thead th {\n",
       "        text-align: right;\n",
       "    }\n",
       "</style>\n",
       "<table border=\"1\" class=\"dataframe\">\n",
       "  <thead>\n",
       "    <tr style=\"text-align: right;\">\n",
       "      <th></th>\n",
       "      <th>fare_amount</th>\n",
       "      <th>passenger_count</th>\n",
       "      <th>distance_travelled</th>\n",
       "      <th>Year</th>\n",
       "      <th>Month</th>\n",
       "      <th>Day</th>\n",
       "      <th>Hour</th>\n",
       "    </tr>\n",
       "  </thead>\n",
       "  <tbody>\n",
       "    <tr>\n",
       "      <th>count</th>\n",
       "      <td>13562.000000</td>\n",
       "      <td>13562.000000</td>\n",
       "      <td>13562.000000</td>\n",
       "      <td>13562.000000</td>\n",
       "      <td>13562.000000</td>\n",
       "      <td>13562.000000</td>\n",
       "      <td>13562.000000</td>\n",
       "    </tr>\n",
       "    <tr>\n",
       "      <th>mean</th>\n",
       "      <td>8.221514</td>\n",
       "      <td>1.640636</td>\n",
       "      <td>2.109054</td>\n",
       "      <td>2011.691638</td>\n",
       "      <td>6.220395</td>\n",
       "      <td>15.700487</td>\n",
       "      <td>13.653222</td>\n",
       "    </tr>\n",
       "    <tr>\n",
       "      <th>std</th>\n",
       "      <td>3.326171</td>\n",
       "      <td>1.263408</td>\n",
       "      <td>1.328814</td>\n",
       "      <td>1.860254</td>\n",
       "      <td>3.455686</td>\n",
       "      <td>8.669022</td>\n",
       "      <td>6.402336</td>\n",
       "    </tr>\n",
       "    <tr>\n",
       "      <th>min</th>\n",
       "      <td>0.000000</td>\n",
       "      <td>1.000000</td>\n",
       "      <td>0.000000</td>\n",
       "      <td>2009.000000</td>\n",
       "      <td>1.000000</td>\n",
       "      <td>1.000000</td>\n",
       "      <td>0.000000</td>\n",
       "    </tr>\n",
       "    <tr>\n",
       "      <th>25%</th>\n",
       "      <td>5.700000</td>\n",
       "      <td>1.000000</td>\n",
       "      <td>1.115916</td>\n",
       "      <td>2010.000000</td>\n",
       "      <td>3.000000</td>\n",
       "      <td>8.000000</td>\n",
       "      <td>9.000000</td>\n",
       "    </tr>\n",
       "    <tr>\n",
       "      <th>50%</th>\n",
       "      <td>7.500000</td>\n",
       "      <td>1.000000</td>\n",
       "      <td>1.823618</td>\n",
       "      <td>2012.000000</td>\n",
       "      <td>6.000000</td>\n",
       "      <td>16.000000</td>\n",
       "      <td>14.000000</td>\n",
       "    </tr>\n",
       "    <tr>\n",
       "      <th>75%</th>\n",
       "      <td>10.100000</td>\n",
       "      <td>2.000000</td>\n",
       "      <td>2.892964</td>\n",
       "      <td>2013.000000</td>\n",
       "      <td>9.000000</td>\n",
       "      <td>23.000000</td>\n",
       "      <td>19.000000</td>\n",
       "    </tr>\n",
       "    <tr>\n",
       "      <th>max</th>\n",
       "      <td>18.900000</td>\n",
       "      <td>6.000000</td>\n",
       "      <td>5.916023</td>\n",
       "      <td>2015.000000</td>\n",
       "      <td>12.000000</td>\n",
       "      <td>31.000000</td>\n",
       "      <td>23.000000</td>\n",
       "    </tr>\n",
       "  </tbody>\n",
       "</table>\n",
       "</div>"
      ],
      "text/plain": [
       "        fare_amount  passenger_count  distance_travelled          Year  \\\n",
       "count  13562.000000     13562.000000        13562.000000  13562.000000   \n",
       "mean       8.221514         1.640636            2.109054   2011.691638   \n",
       "std        3.326171         1.263408            1.328814      1.860254   \n",
       "min        0.000000         1.000000            0.000000   2009.000000   \n",
       "25%        5.700000         1.000000            1.115916   2010.000000   \n",
       "50%        7.500000         1.000000            1.823618   2012.000000   \n",
       "75%       10.100000         2.000000            2.892964   2013.000000   \n",
       "max       18.900000         6.000000            5.916023   2015.000000   \n",
       "\n",
       "              Month           Day          Hour  \n",
       "count  13562.000000  13562.000000  13562.000000  \n",
       "mean       6.220395     15.700487     13.653222  \n",
       "std        3.455686      8.669022      6.402336  \n",
       "min        1.000000      1.000000      0.000000  \n",
       "25%        3.000000      8.000000      9.000000  \n",
       "50%        6.000000     16.000000     14.000000  \n",
       "75%        9.000000     23.000000     19.000000  \n",
       "max       12.000000     31.000000     23.000000  "
      ]
     },
     "execution_count": 52,
     "metadata": {},
     "output_type": "execute_result"
    }
   ],
   "source": [
    "train.describe(include='all' )"
   ]
  },
  {
   "cell_type": "code",
   "execution_count": 70,
   "metadata": {},
   "outputs": [
    {
     "data": {
      "text/plain": [
       "<matplotlib.axes._subplots.AxesSubplot at 0x2b506c17710>"
      ]
     },
     "execution_count": 70,
     "metadata": {},
     "output_type": "execute_result"
    },
    {
     "data": {
      "image/png": "[encoded data removed]",
      "text/plain": [
       "<Figure size 432x288 with 1 Axes>"
      ]
     },
     "metadata": {},
     "output_type": "display_data"
    }
   ],
   "source": [
    "sns.boxplot(x=train['distance_travelled'])"
   ]
  },
  {
   "cell_type": "code",
   "execution_count": 71,
   "metadata": {},
   "outputs": [
    {
     "data": {
      "text/plain": [
       "<matplotlib.axes._subplots.AxesSubplot at 0x2b506d744e0>"
      ]
     },
     "execution_count": 71,
     "metadata": {},
     "output_type": "execute_result"
    },
    {
     "data": {
      "image/png": "[encoded data removed]",
      "text/plain": [
       "<Figure size 432x288 with 1 Axes>"
      ]
     },
     "metadata": {},
     "output_type": "display_data"
    }
   ],
   "source": [
    "sns.boxplot(x=train['fare_amount'])"
   ]
  },
  {
   "cell_type": "markdown",
   "metadata": {},
   "source": [
    "### 4) Checking dependency of variables on each other"
   ]
  },
  {
   "cell_type": "code",
   "execution_count": 46,
   "metadata": {},
   "outputs": [],
   "source": [
    "train['Year'] = train['Date'].apply(lambda x: x.year)\n",
    "train['Month'] = train['Date'].apply(lambda x: x.month)\n",
    "train['Day'] = train['Date'].apply(lambda x: x.day)\n",
    "train['Hour'] = train['Time'].apply(lambda x: x.hour)"
   ]
  },
  {
   "cell_type": "code",
   "execution_count": 47,
   "metadata": {},
   "outputs": [],
   "source": [
    "train.drop(['Date','Time'], axis=1, inplace=True)"
   ]
  },
  {
   "cell_type": "code",
   "execution_count": 49,
   "metadata": {},
   "outputs": [
    {
     "data": {
      "text/plain": [
       "<matplotlib.axes._subplots.AxesSubplot at 0x1bb545bb048>"
      ]
     },
     "execution_count": 49,
     "metadata": {},
     "output_type": "execute_result"
    },
    {
     "data": {
      "image/png": "[encoded data removed]",
      "text/plain": [
       "<Figure size 720x576 with 2 Axes>"
      ]
     },
     "metadata": {},
     "output_type": "display_data"
    }
   ],
   "source": [
    "plt.figure(figsize=(10,8))\n",
    "sns.heatmap(data=train.corr(), cmap='viridis', linewidth=1, linecolor='white', annot=True)\n",
    "\n",
    "#Finding: As expected, fare does not depend on the number of passenger. It depends the most on distance travelled."
   ]
  },
  {
   "cell_type": "code",
   "execution_count": 63,
   "metadata": {},
   "outputs": [
    {
     "data": {
      "text/plain": [
       "Text(0.5,1,'No. of cabs booked every hour starting from midnight')"
      ]
     },
     "execution_count": 63,
     "metadata": {},
     "output_type": "execute_result"
    },
    {
     "data": {
      "image/png": "[encoded data removed]",
      "text/plain": [
       "<Figure size 432x288 with 1 Axes>"
      ]
     },
     "metadata": {},
     "output_type": "display_data"
    }
   ],
   "source": [
    "sns.kdeplot(train['Hour'])\n",
    "plt.title(\"No. of cabs booked every hour starting from midnight\")\n",
    "\n",
    "#Finding: Peek hours of cab booking is evening between 6-8"
   ]
  },
  {
   "cell_type": "code",
   "execution_count": 64,
   "metadata": {},
   "outputs": [
    {
     "data": {
      "text/plain": [
       "Text(0.5,1,'No. of cabs booked every month')"
      ]
     },
     "execution_count": 64,
     "metadata": {},
     "output_type": "execute_result"
    },
    {
     "data": {
      "image/png": "[encoded data removed]",
      "text/plain": [
       "<Figure size 432x288 with 1 Axes>"
      ]
     },
     "metadata": {},
     "output_type": "display_data"
    }
   ],
   "source": [
    "sns.kdeplot(train['Month'])\n",
    "plt.title(\"No. of cabs booked every month\")\n",
    "\n",
    "#Finding: More cabs are booked in the months 1-6 than in 7-12"
   ]
  },
  {
   "cell_type": "code",
   "execution_count": 66,
   "metadata": {},
   "outputs": [
    {
     "data": {
      "text/plain": [
       "Text(0.5,1,'No. of cabs booked on different dates')"
      ]
     },
     "execution_count": 66,
     "metadata": {},
     "output_type": "execute_result"
    },
    {
     "data": {
      "image/png": "[encoded data removed]",
      "text/plain": [
       "<Figure size 432x288 with 1 Axes>"
      ]
     },
     "metadata": {},
     "output_type": "display_data"
    }
   ],
   "source": [
    "sns.kdeplot(train['Day'])\n",
    "plt.title(\"No. of cabs booked on different dates\")\n",
    "\n",
    "#Finding: Cab booking does not depend on what day of the month it is"
   ]
  },
  {
   "cell_type": "code",
   "execution_count": 70,
   "metadata": {},
   "outputs": [
    {
     "data": {
      "text/plain": [
       "Text(0.5,1,'Fare charged at every hour starting from midnight')"
      ]
     },
     "execution_count": 70,
     "metadata": {},
     "output_type": "execute_result"
    },
    {
     "data": {
      "image/png": "[encoded data removed]",
      "text/plain": [
       "<Figure size 360x360 with 1 Axes>"
      ]
     },
     "metadata": {},
     "output_type": "display_data"
    }
   ],
   "source": [
    "sns.lmplot(x='Hour',y='fare_amount',data=train)\n",
    "plt.title(\"Fare charged at every hour starting from midnight\")\n",
    "\n",
    "#Finding: Fares are almost independent of the time of travel"
   ]
  },
  {
   "cell_type": "code",
   "execution_count": 72,
   "metadata": {},
   "outputs": [
    {
     "data": {
      "text/plain": [
       "Text(0.5,1,'Fare charged according to month')"
      ]
     },
     "execution_count": 72,
     "metadata": {},
     "output_type": "execute_result"
    },
    {
     "data": {
      "image/png": "[encoded data removed]",
      "text/plain": [
       "<Figure size 432x288 with 1 Axes>"
      ]
     },
     "metadata": {},
     "output_type": "display_data"
    }
   ],
   "source": [
    "sns.barplot(x='Month',y='fare_amount',data=train)\n",
    "plt.title(\"Fare charged according to month\")\n",
    "\n",
    "#Finding: Fares are almost independent of the month"
   ]
  },
  {
   "cell_type": "code",
   "execution_count": 53,
   "metadata": {},
   "outputs": [
    {
     "data": {
      "text/plain": [
       "Text(0.5,1,'Fare charged according to distance')"
      ]
     },
     "execution_count": 53,
     "metadata": {},
     "output_type": "execute_result"
    },
    {
     "data": {
      "image/png": "[encoded data removed]",
      "text/plain": [
       "<Figure size 360x360 with 1 Axes>"
      ]
     },
     "metadata": {},
     "output_type": "display_data"
    }
   ],
   "source": [
    "sns.lmplot(x='distance_travelled',y='fare_amount',data=train)\n",
    "plt.title(\"Fare charged according to distance\")\n",
    "\n",
    "#Fares are linearly dependent on distance travelled"
   ]
  },
  {
   "cell_type": "code",
   "execution_count": 69,
   "metadata": {},
   "outputs": [
    {
     "data": {
      "text/plain": [
       "Text(0.5,1,'Fare charged according to year')"
      ]
     },
     "execution_count": 69,
     "metadata": {},
     "output_type": "execute_result"
    },
    {
     "data": {
      "image/png": "[encoded data removed]",
      "text/plain": [
       "<Figure size 432x288 with 1 Axes>"
      ]
     },
     "metadata": {},
     "output_type": "display_data"
    }
   ],
   "source": [
    "sns.barplot(x='Year',y='fare_amount',data=train)\n",
    "plt.title(\"Fare charged according to year\")\n",
    "\n",
    "#Finding: Fares have increased over the past years"
   ]
  },
  {
   "cell_type": "code",
   "execution_count": 54,
   "metadata": {},
   "outputs": [
    {
     "data": {
      "text/html": [
       "<div>\n",
       "<style scoped>\n",
       "    .dataframe tbody tr th:only-of-type {\n",
       "        vertical-align: middle;\n",
       "    }\n",
       "\n",
       "    .dataframe tbody tr th {\n",
       "        vertical-align: top;\n",
       "    }\n",
       "\n",
       "    .dataframe thead th {\n",
       "        text-align: right;\n",
       "    }\n",
       "</style>\n",
       "<table border=\"1\" class=\"dataframe\">\n",
       "  <thead>\n",
       "    <tr style=\"text-align: right;\">\n",
       "      <th></th>\n",
       "      <th>fare_amount</th>\n",
       "      <th>passenger_count</th>\n",
       "      <th>distance_travelled</th>\n",
       "      <th>Year</th>\n",
       "      <th>Month</th>\n",
       "      <th>Day</th>\n",
       "      <th>Hour</th>\n",
       "    </tr>\n",
       "  </thead>\n",
       "  <tbody>\n",
       "    <tr>\n",
       "      <th>count</th>\n",
       "      <td>13357.000000</td>\n",
       "      <td>13357.000000</td>\n",
       "      <td>13357.000000</td>\n",
       "      <td>13357.000000</td>\n",
       "      <td>13357.000000</td>\n",
       "      <td>13357.000000</td>\n",
       "      <td>13357.000000</td>\n",
       "    </tr>\n",
       "    <tr>\n",
       "      <th>mean</th>\n",
       "      <td>8.100327</td>\n",
       "      <td>1.640885</td>\n",
       "      <td>2.064117</td>\n",
       "      <td>2011.685483</td>\n",
       "      <td>6.220034</td>\n",
       "      <td>15.700981</td>\n",
       "      <td>13.657183</td>\n",
       "    </tr>\n",
       "    <tr>\n",
       "      <th>std</th>\n",
       "      <td>3.188325</td>\n",
       "      <td>1.263973</td>\n",
       "      <td>1.278863</td>\n",
       "      <td>1.859785</td>\n",
       "      <td>3.457485</td>\n",
       "      <td>8.663918</td>\n",
       "      <td>6.392681</td>\n",
       "    </tr>\n",
       "    <tr>\n",
       "      <th>min</th>\n",
       "      <td>0.000000</td>\n",
       "      <td>1.000000</td>\n",
       "      <td>0.000000</td>\n",
       "      <td>2009.000000</td>\n",
       "      <td>1.000000</td>\n",
       "      <td>1.000000</td>\n",
       "      <td>0.000000</td>\n",
       "    </tr>\n",
       "    <tr>\n",
       "      <th>25%</th>\n",
       "      <td>5.700000</td>\n",
       "      <td>1.000000</td>\n",
       "      <td>1.106015</td>\n",
       "      <td>2010.000000</td>\n",
       "      <td>3.000000</td>\n",
       "      <td>8.000000</td>\n",
       "      <td>9.000000</td>\n",
       "    </tr>\n",
       "    <tr>\n",
       "      <th>50%</th>\n",
       "      <td>7.500000</td>\n",
       "      <td>1.000000</td>\n",
       "      <td>1.801966</td>\n",
       "      <td>2012.000000</td>\n",
       "      <td>6.000000</td>\n",
       "      <td>16.000000</td>\n",
       "      <td>14.000000</td>\n",
       "    </tr>\n",
       "    <tr>\n",
       "      <th>75%</th>\n",
       "      <td>10.100000</td>\n",
       "      <td>2.000000</td>\n",
       "      <td>2.835344</td>\n",
       "      <td>2013.000000</td>\n",
       "      <td>9.000000</td>\n",
       "      <td>23.000000</td>\n",
       "      <td>19.000000</td>\n",
       "    </tr>\n",
       "    <tr>\n",
       "      <th>max</th>\n",
       "      <td>17.700000</td>\n",
       "      <td>6.000000</td>\n",
       "      <td>5.652882</td>\n",
       "      <td>2015.000000</td>\n",
       "      <td>12.000000</td>\n",
       "      <td>31.000000</td>\n",
       "      <td>23.000000</td>\n",
       "    </tr>\n",
       "  </tbody>\n",
       "</table>\n",
       "</div>"
      ],
      "text/plain": [
       "        fare_amount  passenger_count  distance_travelled          Year  \\\n",
       "count  13357.000000     13357.000000        13357.000000  13357.000000   \n",
       "mean       8.100327         1.640885            2.064117   2011.685483   \n",
       "std        3.188325         1.263973            1.278863      1.859785   \n",
       "min        0.000000         1.000000            0.000000   2009.000000   \n",
       "25%        5.700000         1.000000            1.106015   2010.000000   \n",
       "50%        7.500000         1.000000            1.801966   2012.000000   \n",
       "75%       10.100000         2.000000            2.835344   2013.000000   \n",
       "max       17.700000         6.000000            5.652882   2015.000000   \n",
       "\n",
       "              Month           Day          Hour  \n",
       "count  13357.000000  13357.000000  13357.000000  \n",
       "mean       6.220034     15.700981     13.657183  \n",
       "std        3.457485      8.663918      6.392681  \n",
       "min        1.000000      1.000000      0.000000  \n",
       "25%        3.000000      8.000000      9.000000  \n",
       "50%        6.000000     16.000000     14.000000  \n",
       "75%        9.000000     23.000000     19.000000  \n",
       "max       12.000000     31.000000     23.000000  "
      ]
     },
     "execution_count": 54,
     "metadata": {},
     "output_type": "execute_result"
    }
   ],
   "source": [
    "train.describe()"
   ]
  },
  {
   "cell_type": "markdown",
   "metadata": {},
   "source": [
    "### Machine Learning Algorithms"
   ]
  },
  {
   "cell_type": "code",
   "execution_count": 56,
   "metadata": {},
   "outputs": [],
   "source": [
    "from sklearn.model_selection import train_test_split\n",
    "\n",
    "X = train.drop(['fare_amount'], axis=1)\n",
    "y = train['fare_amount']\n",
    "\n",
    "X_train, X_test, y_train, y_test = train_test_split(X, y, test_size=0.3)"
   ]
  },
  {
   "cell_type": "code",
   "execution_count": 57,
   "metadata": {},
   "outputs": [],
   "source": [
    "from sklearn.metrics import mean_absolute_error, mean_squared_error, r2_score"
   ]
  },
  {
   "cell_type": "code",
   "execution_count": 58,
   "metadata": {},
   "outputs": [],
   "source": [
    "from sklearn.preprocessing import StandardScaler\n",
    "\n",
    "sc = StandardScaler()\n",
    "X_train = sc.fit_transform(X_train)\n",
    "X_test = sc.fit_transform(X_test)"
   ]
  },
  {
   "cell_type": "code",
   "execution_count": 59,
   "metadata": {},
   "outputs": [
    {
     "name": "stdout",
     "output_type": "stream",
     "text": [
      "mae:  1.4959133832533822\n",
      "rmse:  2.0674895262298603\n",
      "r2-score:  0.5830821141595637\n"
     ]
    }
   ],
   "source": [
    "#Linear Regression\n",
    "\n",
    "\n",
    "from sklearn.linear_model import LinearRegression\n",
    "lm = LinearRegression()\n",
    "\n",
    "lm.fit(X_train, y_train)\n",
    "pred = lm.predict(X_test)\n",
    "\n",
    "mae = mean_absolute_error(y_test, pred)\n",
    "rmse = mean_squared_error(y_test, pred)**0.5\n",
    "r2 = r2_score(y_test, pred)\n",
    "\n",
    "print(\"mae: \", mae)\n",
    "print(\"rmse: \", rmse)\n",
    "print(\"r2-score: \", r2)"
   ]
  },
  {
   "cell_type": "code",
   "execution_count": 60,
   "metadata": {},
   "outputs": [
    {
     "name": "stderr",
     "output_type": "stream",
     "text": [
      "C:\\Users\\simran.chhabra1\\AppData\\Local\\Continuum\\anaconda3\\lib\\site-packages\\sklearn\\ensemble\\forest.py:245: FutureWarning: The default value of n_estimators will change from 10 in version 0.20 to 100 in 0.22.\n",
      "  \"10 in version 0.20 to 100 in 0.22.\", FutureWarning)\n"
     ]
    },
    {
     "name": "stdout",
     "output_type": "stream",
     "text": [
      "mae:  1.5284590490133887\n",
      "rmse:  2.1062942618410605\n",
      "r2-score:  0.5672849705161713\n"
     ]
    }
   ],
   "source": [
    "#Random Forest Regression\n",
    "\n",
    "from sklearn.ensemble import RandomForestRegressor\n",
    "rf = RandomForestRegressor()\n",
    "\n",
    "rf.fit(X_train, y_train)\n",
    "\n",
    "pred = rf.predict(X_test)\n",
    "\n",
    "mae = mean_absolute_error(y_test, pred)\n",
    "rmse = mean_squared_error(y_test, pred)**0.5\n",
    "r2 = r2_score(y_test, pred)\n",
    "\n",
    "print(\"mae: \", mae)\n",
    "print(\"rmse: \", rmse)\n",
    "print(\"r2-score: \", r2)"
   ]
  },
  {
   "cell_type": "code",
   "execution_count": 61,
   "metadata": {},
   "outputs": [
    {
     "name": "stdout",
     "output_type": "stream",
     "text": [
      "mae:  1.5831608523709484\n",
      "rmse:  2.171977162032113\n",
      "r2-score:  0.539876516168682\n"
     ]
    }
   ],
   "source": [
    "#KNeighbors Regressor\n",
    "\n",
    "from sklearn.neighbors import KNeighborsRegressor\n",
    "knn = KNeighborsRegressor()\n",
    "\n",
    "knn.fit(X_train, y_train)\n",
    "\n",
    "pred = knn.predict(X_test)\n",
    "\n",
    "mae = mean_absolute_error(y_test, pred)\n",
    "rmse = mean_squared_error(y_test, pred)**0.5\n",
    "r2 = r2_score(y_test, pred)\n",
    "\n",
    "print(\"mae: \", mae)\n",
    "print(\"rmse: \", rmse)\n",
    "print(\"r2-score: \", r2)"
   ]
  },
  {
   "cell_type": "markdown",
   "metadata": {},
   "source": [
    "### Conclusion: Linear regeressor is preferred as it gives minimum error and maximum R2 score"
   ]
  },
  {
   "cell_type": "code",
   "execution_count": 84,
   "metadata": {},
   "outputs": [
    {
     "name": "stdout",
     "output_type": "stream",
     "text": [
      "<class 'pandas.core.frame.DataFrame'>\n",
      "RangeIndex: 9914 entries, 0 to 9913\n",
      "Data columns (total 6 columns):\n",
      "pickup_datetime      9914 non-null object\n",
      "pickup_longitude     9914 non-null float64\n",
      "pickup_latitude      9914 non-null float64\n",
      "dropoff_longitude    9914 non-null float64\n",
      "dropoff_latitude     9914 non-null float64\n",
      "passenger_count      9914 non-null int64\n",
      "dtypes: float64(4), int64(1), object(1)\n",
      "memory usage: 464.8+ KB\n"
     ]
    }
   ],
   "source": [
    "test.info()"
   ]
  },
  {
   "cell_type": "code",
   "execution_count": 85,
   "metadata": {},
   "outputs": [
    {
     "data": {
      "text/html": [
       "<div>\n",
       "<style scoped>\n",
       "    .dataframe tbody tr th:only-of-type {\n",
       "        vertical-align: middle;\n",
       "    }\n",
       "\n",
       "    .dataframe tbody tr th {\n",
       "        vertical-align: top;\n",
       "    }\n",
       "\n",
       "    .dataframe thead th {\n",
       "        text-align: right;\n",
       "    }\n",
       "</style>\n",
       "<table border=\"1\" class=\"dataframe\">\n",
       "  <thead>\n",
       "    <tr style=\"text-align: right;\">\n",
       "      <th></th>\n",
       "      <th>pickup_longitude</th>\n",
       "      <th>pickup_latitude</th>\n",
       "      <th>dropoff_longitude</th>\n",
       "      <th>dropoff_latitude</th>\n",
       "      <th>passenger_count</th>\n",
       "    </tr>\n",
       "  </thead>\n",
       "  <tbody>\n",
       "    <tr>\n",
       "      <th>count</th>\n",
       "      <td>9914.000000</td>\n",
       "      <td>9914.000000</td>\n",
       "      <td>9914.000000</td>\n",
       "      <td>9914.000000</td>\n",
       "      <td>9914.000000</td>\n",
       "    </tr>\n",
       "    <tr>\n",
       "      <th>mean</th>\n",
       "      <td>-73.974722</td>\n",
       "      <td>40.751041</td>\n",
       "      <td>-73.973657</td>\n",
       "      <td>40.751743</td>\n",
       "      <td>1.671273</td>\n",
       "    </tr>\n",
       "    <tr>\n",
       "      <th>std</th>\n",
       "      <td>0.042774</td>\n",
       "      <td>0.033541</td>\n",
       "      <td>0.039072</td>\n",
       "      <td>0.035435</td>\n",
       "      <td>1.278747</td>\n",
       "    </tr>\n",
       "    <tr>\n",
       "      <th>min</th>\n",
       "      <td>-74.252193</td>\n",
       "      <td>40.573143</td>\n",
       "      <td>-74.263242</td>\n",
       "      <td>40.568973</td>\n",
       "      <td>1.000000</td>\n",
       "    </tr>\n",
       "    <tr>\n",
       "      <th>25%</th>\n",
       "      <td>-73.992501</td>\n",
       "      <td>40.736125</td>\n",
       "      <td>-73.991247</td>\n",
       "      <td>40.735254</td>\n",
       "      <td>1.000000</td>\n",
       "    </tr>\n",
       "    <tr>\n",
       "      <th>50%</th>\n",
       "      <td>-73.982326</td>\n",
       "      <td>40.753051</td>\n",
       "      <td>-73.980015</td>\n",
       "      <td>40.754065</td>\n",
       "      <td>1.000000</td>\n",
       "    </tr>\n",
       "    <tr>\n",
       "      <th>75%</th>\n",
       "      <td>-73.968013</td>\n",
       "      <td>40.767113</td>\n",
       "      <td>-73.964059</td>\n",
       "      <td>40.768757</td>\n",
       "      <td>2.000000</td>\n",
       "    </tr>\n",
       "    <tr>\n",
       "      <th>max</th>\n",
       "      <td>-72.986532</td>\n",
       "      <td>41.709555</td>\n",
       "      <td>-72.990963</td>\n",
       "      <td>41.696683</td>\n",
       "      <td>6.000000</td>\n",
       "    </tr>\n",
       "  </tbody>\n",
       "</table>\n",
       "</div>"
      ],
      "text/plain": [
       "       pickup_longitude  pickup_latitude  dropoff_longitude  dropoff_latitude  \\\n",
       "count       9914.000000      9914.000000        9914.000000       9914.000000   \n",
       "mean         -73.974722        40.751041         -73.973657         40.751743   \n",
       "std            0.042774         0.033541           0.039072          0.035435   \n",
       "min          -74.252193        40.573143         -74.263242         40.568973   \n",
       "25%          -73.992501        40.736125         -73.991247         40.735254   \n",
       "50%          -73.982326        40.753051         -73.980015         40.754065   \n",
       "75%          -73.968013        40.767113         -73.964059         40.768757   \n",
       "max          -72.986532        41.709555         -72.990963         41.696683   \n",
       "\n",
       "       passenger_count  \n",
       "count      9914.000000  \n",
       "mean          1.671273  \n",
       "std           1.278747  \n",
       "min           1.000000  \n",
       "25%           1.000000  \n",
       "50%           1.000000  \n",
       "75%           2.000000  \n",
       "max           6.000000  "
      ]
     },
     "execution_count": 85,
     "metadata": {},
     "output_type": "execute_result"
    }
   ],
   "source": [
    "test.describe()"
   ]
  },
  {
   "cell_type": "code",
   "execution_count": 73,
   "metadata": {},
   "outputs": [],
   "source": [
    "test.loc[(test['passenger_count']<1) | (test['passenger_count']>6),'passenger_count'] = np.nan\n",
    "\n",
    "test['distance_travelled'] = test.apply(lambda x: haversine(x.pickup_longitude,x.pickup_latitude,x.dropoff_longitude,x.dropoff_latitude), axis=1)\n",
    "test['Date'] = test['pickup_datetime'].apply(convertDatetimeToDate)\n",
    "test['Time'] = test['pickup_datetime'].apply(convertDatetimeToTime)\n",
    "\n",
    "test.drop(['pickup_datetime', 'pickup_longitude','pickup_latitude','dropoff_longitude','dropoff_latitude'], axis=1, inplace=True)\n",
    "\n",
    "test.loc[test[\"passenger_count\"].isna(), 'passenger_count'] = test[\"passenger_count\"].mode()[0]\n",
    "\n",
    "test.loc[test['distance_travelled']>4000] = np.nan\n",
    "\n",
    "test.dropna(inplace=True)\n",
    "\n",
    "test['Year'] = test['Date'].apply(lambda x: x.year)\n",
    "test['Month'] = test['Date'].apply(lambda x: x.month)\n",
    "test['Day'] = test['Date'].apply(lambda x: x.day)\n",
    "test['Hour'] = test['Time'].apply(lambda x: x.hour)\n",
    "\n",
    "test.drop(['Date','Time'], axis=1, inplace=True)\n"
   ]
  },
  {
   "cell_type": "code",
   "execution_count": 74,
   "metadata": {},
   "outputs": [],
   "source": [
    "test = sc.fit_transform(test)"
   ]
  },
  {
   "cell_type": "code",
   "execution_count": 75,
   "metadata": {},
   "outputs": [],
   "source": [
    "predictions = lm.predict(test)"
   ]
  },
  {
   "cell_type": "code",
   "execution_count": 76,
   "metadata": {},
   "outputs": [
    {
     "data": {
      "text/plain": [
       "array([ 8.11691172,  8.17710219,  6.28061   , ..., 18.41674534,\n",
       "       11.72103274,  7.6237831 ])"
      ]
     },
     "execution_count": 76,
     "metadata": {},
     "output_type": "execute_result"
    }
   ],
   "source": [
    "predictions"
   ]
  },
  {
   "cell_type": "code",
   "execution_count": 77,
   "metadata": {},
   "outputs": [],
   "source": [
    "output = pd.DataFrame({'fare_amount': predictions})\n",
    "output.to_csv('predicted_fare.csv', index = True)"
   ]
  },
  {
   "cell_type": "code",
   "execution_count": null,
   "metadata": {},
   "outputs": [],
   "source": []
  },
  {
   "cell_type": "code",
   "execution_count": null,
   "metadata": {},
   "outputs": [],
   "source": []
  },
  {
   "cell_type": "code",
   "execution_count": null,
   "metadata": {},
   "outputs": [],
   "source": []
  }
 ],
 "metadata": {
  "kernelspec": {
   "display_name": "Python 3",
   "language": "python",
   "name": "python3"
  },
  "language_info": {
   "codemirror_mode": {
    "name": "ipython",
    "version": 3
   },
   "file_extension": ".py",
   "mimetype": "text/x-python",
   "name": "python",
   "nbconvert_exporter": "python",
   "pygments_lexer": "ipython3",
   "version": "3.6.5"
  }
 },
 "nbformat": 4,
 "nbformat_minor": 2
}
